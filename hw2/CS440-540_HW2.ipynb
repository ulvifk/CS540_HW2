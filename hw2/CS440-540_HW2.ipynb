{
 "cells": [
  {
   "cell_type": "markdown",
   "metadata": {},
   "source": [
    "# CS 440/540 Machine Learning in Finance: Homework 2"
   ]
  },
  {
   "cell_type": "markdown",
   "metadata": {},
   "source": [
    "Download data files from LMS. Code/Explain your solution over this `IPython` notebook at required cells, and complete locally.\n",
    "\n",
    "To submit your assignment, in LMS, upload your solution to LMS as a single notebook with following file name format:\n",
    "\n",
    "`lastName_firstName_CourseNumber_HW2.ipynb`\n",
    "\n",
    "where `CourseNumber` is the course in which you're enrolled (CS 440 or CS 540).\n",
    "\n",
    "Problems on homework assignments are equally weighted.\n",
    "\n",
    "Any type of plagiarism will not be tolerated. Your submitted codes will be compared with other submissions and also the codes available on internet and violations will have a penalty of -100 points. (In case of copying from\n",
    "another student both parties will get -100)"
   ]
  },
  {
   "cell_type": "markdown",
   "metadata": {},
   "source": [
    "Import all libraries here"
   ]
  },
  {
   "cell_type": "code",
   "execution_count": 1,
   "metadata": {},
   "outputs": [],
   "source": [
    "#Import libraries before starting"
   ]
  },
  {
   "cell_type": "markdown",
   "metadata": {},
   "source": [
    "## Problem 1: Mean-Variance Portfolio Optimization\n",
    "\n",
    "In this problem, we will be modifying Mean-Variance portfolio optimization on S&P 500 index constituent stocks between 2015-2017. We will again be training the optimizer between 2015-2016, and testing it on between 2016 and 2017. \n",
    "\n",
    "We assume that stocks can only be long, and all portfolio should be allocated to stocks (We cannot hold cash). However, we will rebalance the portfolio every Monday in the test period rather than once in a sliding window-based approach.\n",
    "\n",
    "Run portfolio optimization for range of lambdas (which is for modeling the relative weight of variance with respect to return): [0.1, 1.0, 5.0, 10.0]. Plot P&L curve for testing period. Calculate Information Ratio based on daily returns for the same testing period. Discuss which alpha value performs the best. Why?"
   ]
  },
  {
   "cell_type": "code",
   "execution_count": 2,
   "metadata": {},
   "outputs": [],
   "source": [
    "#Solution 1"
   ]
  },
  {
   "cell_type": "markdown",
   "metadata": {},
   "source": [
    "## Problem 2: Regularized Linear Regression for Predicting House Price \n",
    "\n",
    "Let's focus on the same Real State Price dataset from HW1. In this problem, you are provided a single dataset \"kaggle_house.csv\" which includes both train and test sets. We will now implement a regularized linear regression by using sklearn to predict house sale price (last column) by using all remaining attributes.\n",
    "\n",
    "Implement L1 norm and L2 norm regularized linear regression by using sklearn library. Report R2 and RMSE for the test set. To find the optimal regularization hyperparameter lambda, apply 5-fold cross-validation where lambda is in [0.001, 0.01, 0.1, 0.25, 0.5, 1.0]. Our evaluation metric will be Root Mean Squared Error (RMSE). Discuss which regularization method performs better."
   ]
  },
  {
   "cell_type": "code",
   "execution_count": 3,
   "metadata": {},
   "outputs": [],
   "source": [
    "#Solution 2"
   ]
  },
  {
   "cell_type": "markdown",
   "metadata": {},
   "source": [
    "## Problem 3: Logistic Regression for Inferring Home Ownership Type on Lending Data\n",
    "\n",
    "In this problem, we will focus on determining the home ownership type(mortage, rent, etc) in \"lending_data\" by using L1 regularized logistic regression. To find the optimal regularization hyperparameter lambda, we will apply 5-fold cross-validation where lambda can be [0.001, 0.01, 0.1, 0.25, 0.5, 1.0]. Our evaluation metric will be F1 score. Also discuss which attributes are significant by running Permutation-based Importance."
   ]
  },
  {
   "cell_type": "code",
   "execution_count": 4,
   "metadata": {},
   "outputs": [],
   "source": [
    "#Solution 3"
   ]
  },
  {
   "cell_type": "markdown",
   "metadata": {},
   "source": [
    "## Problem 4: Fitting Optimal ARIMA Model to Turkish Unemployment Rate Data\n",
    "\n",
    "In this problem, you will focus on fitting ARIMA type model to Turkish monthly unemployment rate data. The data is obtained from Central Bank, and provided to you in \"unemployment.xlxs\".\n",
    "\n",
    "You do not need to implement ARIMA from stratch. You can use the existing implemetation in statsmodels. What is the optimal integration order for ARIMA? 0, 1 or 2? \n",
    "\n",
    "Now, you will also model seasonal impact by using SARIMA (Seasonal ARIMA) instead. What is the optimal integration order for SARIMA? 0, 1 or 2? Does it perform better than ARIMA? Why do you think?"
   ]
  },
  {
   "cell_type": "code",
   "execution_count": 5,
   "metadata": {
    "collapsed": true
   },
   "outputs": [],
   "source": [
    "#Solution 4"
   ]
  },
  {
   "cell_type": "markdown",
   "metadata": {},
   "source": [
    "## Problem 5: Crytocurrency Trading via Multivariate ARIMA\n",
    "\n",
    "In this question, you model the price dynamics of multiple crytocurrencies jointly via multivariate ARIMA. You will focus only on BTC, ETH, LTC, SOL, AVAX, KDA. You can download the historical cryptocurrency price data from www.coinmarketcap.com. Since cryptocurrency markets are 7/24, you will be using latest data in UTC time as the close price.\n",
    "\n",
    "You will predict these cryptocurrency prices by multivariate ARIMA. You do not need to implement ARIMA from stratch, you can use the existing implemetation in statsmodels. Our train period 2021-2022 and test period will be 2022-2023. Once predicted after training, our portfolio will be allocated to the top two cryptocurrencies with highest return estimation.\n",
    "\n",
    "Yoy will report the best model in terms of Information Ratio by considering the parameters p,q,r in ranges [0.1, 0.5]."
   ]
  },
  {
   "cell_type": "code",
   "execution_count": 6,
   "metadata": {},
   "outputs": [],
   "source": [
    "#Solution 5"
   ]
  },
  {
   "cell_type": "markdown",
   "metadata": {},
   "source": [
    "---"
   ]
  }
 ],
 "metadata": {
  "anaconda-cloud": {},
  "kernelspec": {
   "display_name": "Python 3 (ipykernel)",
   "language": "python",
   "name": "python3"
  },
  "language_info": {
   "codemirror_mode": {
    "name": "ipython",
    "version": 3
   },
   "file_extension": ".py",
   "mimetype": "text/x-python",
   "name": "python",
   "nbconvert_exporter": "python",
   "pygments_lexer": "ipython3",
   "version": "3.11.4"
  }
 },
 "nbformat": 4,
 "nbformat_minor": 1
}
